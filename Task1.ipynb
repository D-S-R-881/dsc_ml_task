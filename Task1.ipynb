{
 "cells": [
  {
   "cell_type": "markdown",
   "metadata": {},
   "source": [
    "# DSC Machine Learning Task\n",
    "\n",
    "According to the problem statement we are given a dataset in which we have the marks of the dtudents in two test and whether they're selected for college admission. In this notebook we try to perform some exploratory data analysis and we will later apply three algorithms to get predictions on test dataset and to compare test loss in each case. \n",
    "\n",
    "We start by importing some necessary libraries to perform exploratory data analysis."
   ]
  },
  {
   "cell_type": "code",
   "execution_count": 1,
   "metadata": {},
   "outputs": [],
   "source": [
    "import numpy as np\n",
    "import pandas as pd\n",
    "import matplotlib.pyplot as plt"
   ]
  },
  {
   "cell_type": "code",
   "execution_count": 2,
   "metadata": {},
   "outputs": [
    {
     "data": {
      "text/html": [
       "<div>\n",
       "<style scoped>\n",
       "    .dataframe tbody tr th:only-of-type {\n",
       "        vertical-align: middle;\n",
       "    }\n",
       "\n",
       "    .dataframe tbody tr th {\n",
       "        vertical-align: top;\n",
       "    }\n",
       "\n",
       "    .dataframe thead th {\n",
       "        text-align: right;\n",
       "    }\n",
       "</style>\n",
       "<table border=\"1\" class=\"dataframe\">\n",
       "  <thead>\n",
       "    <tr style=\"text-align: right;\">\n",
       "      <th></th>\n",
       "      <th>Score 1</th>\n",
       "      <th>Score 2</th>\n",
       "      <th>Student admitted or not</th>\n",
       "    </tr>\n",
       "  </thead>\n",
       "  <tbody>\n",
       "    <tr>\n",
       "      <th>0</th>\n",
       "      <td>30.05882</td>\n",
       "      <td>49.59297</td>\n",
       "      <td>0</td>\n",
       "    </tr>\n",
       "    <tr>\n",
       "      <th>1</th>\n",
       "      <td>50.45816</td>\n",
       "      <td>75.80986</td>\n",
       "      <td>1</td>\n",
       "    </tr>\n",
       "    <tr>\n",
       "      <th>2</th>\n",
       "      <td>32.57720</td>\n",
       "      <td>95.59855</td>\n",
       "      <td>0</td>\n",
       "    </tr>\n",
       "    <tr>\n",
       "      <th>3</th>\n",
       "      <td>58.84096</td>\n",
       "      <td>75.85845</td>\n",
       "      <td>1</td>\n",
       "    </tr>\n",
       "    <tr>\n",
       "      <th>4</th>\n",
       "      <td>94.09433</td>\n",
       "      <td>77.15911</td>\n",
       "      <td>1</td>\n",
       "    </tr>\n",
       "  </tbody>\n",
       "</table>\n",
       "</div>"
      ],
      "text/plain": [
       "    Score 1   Score 2  Student admitted or not\n",
       "0  30.05882  49.59297                        0\n",
       "1  50.45816  75.80986                        1\n",
       "2  32.57720  95.59855                        0\n",
       "3  58.84096  75.85845                        1\n",
       "4  94.09433  77.15911                        1"
      ]
     },
     "execution_count": 2,
     "metadata": {},
     "output_type": "execute_result"
    }
   ],
   "source": [
    "train_dataframe = pd.read_csv('datasets/admission_train.csv')\n",
    "test_dataframe = pd.read_csv('datasets/admission_test.csv')\n",
    "\n",
    "train_dataframe.head()"
   ]
  },
  {
   "cell_type": "markdown",
   "metadata": {},
   "source": [
    "### Exploratory data analysis\n",
    "\n",
    "We start the exploratory data analysis by doing operations in our training dataframe and doing the same set of operations in our test dataframe. These operations may include naming of column, Feature scaling, Data cleaning, finding and filling of NaN/None values(imputation). Ploting charts to have idea of data points, etc. \n",
    "\n",
    "EDA is important because it can help identify obvious errors, as well as better understand patterns within the data, detect outliers or anomalous events, find interesting relations among the variables."
   ]
  },
  {
   "cell_type": "code",
   "execution_count": 3,
   "metadata": {},
   "outputs": [
    {
     "data": {
      "text/html": [
       "<div>\n",
       "<style scoped>\n",
       "    .dataframe tbody tr th:only-of-type {\n",
       "        vertical-align: middle;\n",
       "    }\n",
       "\n",
       "    .dataframe tbody tr th {\n",
       "        vertical-align: top;\n",
       "    }\n",
       "\n",
       "    .dataframe thead th {\n",
       "        text-align: right;\n",
       "    }\n",
       "</style>\n",
       "<table border=\"1\" class=\"dataframe\">\n",
       "  <thead>\n",
       "    <tr style=\"text-align: right;\">\n",
       "      <th></th>\n",
       "      <th>score1</th>\n",
       "      <th>score2</th>\n",
       "      <th>selected</th>\n",
       "    </tr>\n",
       "  </thead>\n",
       "  <tbody>\n",
       "    <tr>\n",
       "      <th>0</th>\n",
       "      <td>30.05882</td>\n",
       "      <td>49.59297</td>\n",
       "      <td>0</td>\n",
       "    </tr>\n",
       "    <tr>\n",
       "      <th>1</th>\n",
       "      <td>50.45816</td>\n",
       "      <td>75.80986</td>\n",
       "      <td>1</td>\n",
       "    </tr>\n",
       "    <tr>\n",
       "      <th>2</th>\n",
       "      <td>32.57720</td>\n",
       "      <td>95.59855</td>\n",
       "      <td>0</td>\n",
       "    </tr>\n",
       "    <tr>\n",
       "      <th>3</th>\n",
       "      <td>58.84096</td>\n",
       "      <td>75.85845</td>\n",
       "      <td>1</td>\n",
       "    </tr>\n",
       "    <tr>\n",
       "      <th>4</th>\n",
       "      <td>94.09433</td>\n",
       "      <td>77.15911</td>\n",
       "      <td>1</td>\n",
       "    </tr>\n",
       "  </tbody>\n",
       "</table>\n",
       "</div>"
      ],
      "text/plain": [
       "     score1    score2  selected\n",
       "0  30.05882  49.59297         0\n",
       "1  50.45816  75.80986         1\n",
       "2  32.57720  95.59855         0\n",
       "3  58.84096  75.85845         1\n",
       "4  94.09433  77.15911         1"
      ]
     },
     "execution_count": 3,
     "metadata": {},
     "output_type": "execute_result"
    }
   ],
   "source": [
    "# Let's start by renaming the columns. \n",
    "train_dataframe.rename({'Score 1': 'score1', 'Score 2': 'score2', 'Student admitted or not': 'selected'}, axis = 1, inplace = True)\n",
    "test_dataframe.rename({'Score 1': 'score1', 'Score 2': 'score2', 'Student admitted or not': 'selected'}, axis = 1, inplace = True)\n",
    "\n",
    "train_dataframe.head()"
   ]
  },
  {
   "cell_type": "code",
   "execution_count": 4,
   "metadata": {},
   "outputs": [
    {
     "name": "stdout",
     "output_type": "stream",
     "text": [
      "The training dataset has a record of 75 students\n",
      "The test dataset has a record of 25 students\n"
     ]
    }
   ],
   "source": [
    "print('The training dataset has a record of {} students'.format(train_dataframe.shape[0]))\n",
    "print('The test dataset has a record of {} students'.format(test_dataframe.shape[0]))"
   ]
  },
  {
   "cell_type": "code",
   "execution_count": 5,
   "metadata": {},
   "outputs": [
    {
     "name": "stdout",
     "output_type": "stream",
     "text": [
      "Train\n",
      " score1      0\n",
      "score2      0\n",
      "selected    0\n",
      "dtype: int64 \n",
      "\n",
      "Test\n",
      " score1      0\n",
      "score2      0\n",
      "selected    0\n",
      "dtype: int64\n"
     ]
    }
   ],
   "source": [
    "# Let's look for the number of Null entries in different columns of the train and test dataframe.\n",
    "print('Train\\n', train_dataframe.isnull().sum(), '\\n')\n",
    "print('Test\\n', test_dataframe.isnull().sum())"
   ]
  },
  {
   "cell_type": "markdown",
   "metadata": {},
   "source": [
    "We have a clean dataset.\n",
    "Often a times we use plots and graphs to in order to decide which kind of learning is to be performed. What algorithm should be choosen in order to train our model.\n",
    "Let's plot the feature vector."
   ]
  },
  {
   "cell_type": "code",
   "execution_count": 6,
   "metadata": {},
   "outputs": [
    {
     "data": {
      "text/html": [
       "<div>\n",
       "<style scoped>\n",
       "    .dataframe tbody tr th:only-of-type {\n",
       "        vertical-align: middle;\n",
       "    }\n",
       "\n",
       "    .dataframe tbody tr th {\n",
       "        vertical-align: top;\n",
       "    }\n",
       "\n",
       "    .dataframe thead th {\n",
       "        text-align: right;\n",
       "    }\n",
       "</style>\n",
       "<table border=\"1\" class=\"dataframe\">\n",
       "  <thead>\n",
       "    <tr style=\"text-align: right;\">\n",
       "      <th></th>\n",
       "      <th>score1</th>\n",
       "      <th>score2</th>\n",
       "      <th>selected</th>\n",
       "    </tr>\n",
       "  </thead>\n",
       "  <tbody>\n",
       "    <tr>\n",
       "      <th>1</th>\n",
       "      <td>50.45816</td>\n",
       "      <td>75.80986</td>\n",
       "      <td>1</td>\n",
       "    </tr>\n",
       "    <tr>\n",
       "      <th>3</th>\n",
       "      <td>58.84096</td>\n",
       "      <td>75.85845</td>\n",
       "      <td>1</td>\n",
       "    </tr>\n",
       "    <tr>\n",
       "      <th>4</th>\n",
       "      <td>94.09433</td>\n",
       "      <td>77.15911</td>\n",
       "      <td>1</td>\n",
       "    </tr>\n",
       "    <tr>\n",
       "      <th>5</th>\n",
       "      <td>71.79646</td>\n",
       "      <td>78.45356</td>\n",
       "      <td>1</td>\n",
       "    </tr>\n",
       "    <tr>\n",
       "      <th>6</th>\n",
       "      <td>79.03274</td>\n",
       "      <td>75.34438</td>\n",
       "      <td>1</td>\n",
       "    </tr>\n",
       "  </tbody>\n",
       "</table>\n",
       "</div>"
      ],
      "text/plain": [
       "     score1    score2  selected\n",
       "1  50.45816  75.80986         1\n",
       "3  58.84096  75.85845         1\n",
       "4  94.09433  77.15911         1\n",
       "5  71.79646  78.45356         1\n",
       "6  79.03274  75.34438         1"
      ]
     },
     "execution_count": 6,
     "metadata": {},
     "output_type": "execute_result"
    }
   ],
   "source": [
    "selected = train_dataframe[train_dataframe['selected']==1]\n",
    "not_selected = train_dataframe[train_dataframe['selected']==0]\n",
    "\n",
    "selected.head()"
   ]
  },
  {
   "cell_type": "code",
   "execution_count": 7,
   "metadata": {},
   "outputs": [
    {
     "data": {
      "text/plain": [
       "<matplotlib.legend.Legend at 0x2837c3e6ec8>"
      ]
     },
     "execution_count": 7,
     "metadata": {},
     "output_type": "execute_result"
    },
    {
     "data": {
      "image/png": "[encoded data removed]",
      "text/plain": [
       "<Figure size 432x288 with 1 Axes>"
      ]
     },
     "metadata": {
      "needs_background": "light"
     },
     "output_type": "display_data"
    }
   ],
   "source": [
    "# Plot the score of test 1 and test 2. Selected in blue and not selected in red to see if there's any pattern.\n",
    "plt.scatter(selected['score1'].tolist(), selected['score2'].tolist(),  c = 'b')\n",
    "plt.scatter(not_selected['score1'].tolist(), not_selected['score2'].tolist(), c = 'r')\n",
    "plt.xlabel('Score 1')\n",
    "plt.ylabel('Score 2')\n",
    "plt.legend(['Selected', 'Not Selected'])"
   ]
  },
  {
   "cell_type": "markdown",
   "metadata": {},
   "source": [
    "##### Inferences\n",
    "- Since this is a binary classification, from the plot we see a decision boundry which can help us to classify a new data record as selected or not selected.\n",
    "- We are going to use supervised learning algorithm since we already have the labels(outputs). \n",
    "\n",
    "There are various algorithms which we can use to make a binary classification model. Some of which are:\n",
    "- Logistic Regression\n",
    "- Decision Trees\n",
    "- SVM (Support Vector Machine)\n",
    "- Neural Networks\n",
    "\n",
    "### Logistic Regression"
   ]
  },
  {
   "cell_type": "code",
   "execution_count": 8,
   "metadata": {},
   "outputs": [],
   "source": [
    "# We implement the logistic regression using sklearn.\n",
    "from sklearn.linear_model import LogisticRegression # model algorithm\n",
    "from sklearn.preprocessing import StandardScaler # data normalization\n",
    "from sklearn.metrics import classification_report # evaluation metric\n",
    "from sklearn.metrics import confusion_matrix, plot_confusion_matrix # evaluation metric\n",
    "from sklearn.metrics import log_loss # evaluation metric"
   ]
  },
  {
   "cell_type": "code",
   "execution_count": 9,
   "metadata": {},
   "outputs": [
    {
     "name": "stdout",
     "output_type": "stream",
     "text": [
      "[[30.05882 49.59297]\n",
      " [50.45816 75.80986]\n",
      " [32.5772  95.59855]\n",
      " [58.84096 75.85845]\n",
      " [94.09433 77.15911]] \n",
      "\n",
      "[0 1 0 1 1]\n"
     ]
    }
   ],
   "source": [
    "# Split the dataframe into independent variable which is 'X' and dependent variable which is 'Y'.\n",
    "X_train = np.asarray(train_dataframe[['score1', 'score2']])\n",
    "X_test = np.asarray(test_dataframe[['score1', 'score2']])\n",
    "\n",
    "y_train = np.asarray(train_dataframe['selected'])\n",
    "y_test = np.asarray(test_dataframe['selected'])\n",
    "\n",
    "print(X_train[:5], '\\n')\n",
    "print(y_train[:5])"
   ]
  },
  {
   "cell_type": "code",
   "execution_count": 10,
   "metadata": {},
   "outputs": [
    {
     "data": {
      "text/plain": [
       "array([[-1.72472458, -0.91512694],\n",
       "       [-0.70152994,  0.4950881 ],\n",
       "       [-1.59840711,  1.55952818],\n",
       "       [-0.2810636 ,  0.49770178],\n",
       "       [ 1.48718277,  0.5676647 ]])"
      ]
     },
     "execution_count": 10,
     "metadata": {},
     "output_type": "execute_result"
    }
   ],
   "source": [
    "# Using the StandardScaler function in scikit-learn we normalize the independent variable X.\n",
    "X_train = StandardScaler().fit(X_train).transform(X_train)\n",
    "X_test = StandardScaler().fit(X_test).transform(X_test)\n",
    "\n",
    "X_train[:5]"
   ]
  },
  {
   "cell_type": "code",
   "execution_count": 11,
   "metadata": {},
   "outputs": [
    {
     "name": "stdout",
     "output_type": "stream",
     "text": [
      "LogisticRegression(C=0.1, solver='liblinear')\n"
     ]
    }
   ],
   "source": [
    "# Modelling \n",
    "# Parameter 'C' for regularization\n",
    "# 'liblinear' optimizer, because we have a small dataset.\n",
    "\n",
    "logistic_model = LogisticRegression(C = 0.1, solver = 'liblinear')\n",
    "logistic_model.fit(X_train, y_train)\n",
    "print(logistic_model)"
   ]
  },
  {
   "cell_type": "markdown",
   "metadata": {},
   "source": [
    "Now that the training of the model is done, we can start with predictions, evaluation and plotting of model.\n",
    "We will be using 3 different evalution metrics provided by sklearn which are _classification report_ , _confusion matrix_ and _log loss_. "
   ]
  },
  {
   "cell_type": "code",
   "execution_count": 12,
   "metadata": {},
   "outputs": [
    {
     "name": "stdout",
     "output_type": "stream",
     "text": [
      "First 5 predictions:  [0 0 0 1 1]\n",
      "Actual output:  [0 1 0 1 1] \n",
      "\n",
      "Probabilities:  [[0.69281119 0.30718881]\n",
      " [0.61844119 0.38155881]\n",
      " [0.67897828 0.32102172]\n",
      " [0.45951706 0.54048294]\n",
      " [0.49615783 0.50384217]]\n"
     ]
    }
   ],
   "source": [
    "# Predictions\n",
    "\n",
    "y_predict = logistic_model.predict(X_test)\n",
    "y_predict_prob = logistic_model.predict_proba(X_test)\n",
    "\n",
    "print('First 5 predictions: ', y_predict[:5])\n",
    "print('Actual output: ', y_test[:5], '\\n')\n",
    "print('Probabilities: ', y_predict_prob[:5])"
   ]
  },
  {
   "cell_type": "code",
   "execution_count": 13,
   "metadata": {},
   "outputs": [
    {
     "name": "stdout",
     "output_type": "stream",
     "text": [
      "              precision    recall  f1-score   support\n",
      "\n",
      "           0       0.70      0.78      0.74         9\n",
      "           1       0.87      0.81      0.84        16\n",
      "\n",
      "    accuracy                           0.80        25\n",
      "   macro avg       0.78      0.80      0.79        25\n",
      "weighted avg       0.81      0.80      0.80        25\n",
      "\n"
     ]
    }
   ],
   "source": [
    "# Model evaluation\n",
    "\"\"\"\n",
    "Classification report provides a summary of out model. It  includes precision score, F1 score, recall and support metric. \n",
    "Using a classification report we can easily understand the accuracy and performance of a model. \n",
    "\n",
    "Precision - measure of the accuracy provided that a class label has been predicted.\n",
    "\n",
    "Recall -  true positive rate. recall = TP/(TP+FN).\n",
    "\n",
    "F1Score - The F1 score is the harmonic average of the precision and recall. 1 - perfect precision and record, 0 - bad model.\n",
    "\"\"\"\n",
    "print(classification_report(y_test, y_predict))"
   ]
  },
  {
   "cell_type": "code",
   "execution_count": 14,
   "metadata": {},
   "outputs": [
    {
     "data": {
      "image/png": "[encoded data removed]",
      "text/plain": [
       "<Figure size 432x288 with 2 Axes>"
      ]
     },
     "metadata": {
      "needs_background": "light"
     },
     "output_type": "display_data"
    }
   ],
   "source": [
    "\"\"\"\n",
    "Confusion matrix allows us to see the model's ability to correctly predict or separate the classes. In our case (binary \n",
    "classification), we can easily interpret the count of true positives, false positives, true negatives, and false negatives \n",
    "using the confusion matrix.\n",
    "\"\"\"\n",
    "heatmap = plot_confusion_matrix(logistic_model, X_test, y_test, cmap='Blues', values_format = '.3g')"
   ]
  },
  {
   "cell_type": "code",
   "execution_count": 15,
   "metadata": {},
   "outputs": [
    {
     "data": {
      "text/plain": [
       "array([[ 7,  2],\n",
       "       [ 3, 13]], dtype=int64)"
      ]
     },
     "execution_count": 15,
     "metadata": {},
     "output_type": "execute_result"
    }
   ],
   "source": [
    "heatmap.confusion_matrix"
   ]
  },
  {
   "cell_type": "code",
   "execution_count": 16,
   "metadata": {},
   "outputs": [
    {
     "name": "stdout",
     "output_type": "stream",
     "text": [
      "6.91\n"
     ]
    }
   ],
   "source": [
    "\"\"\"\n",
    "The output of a logitic model is the probability of a student getting selected. The value of probability is between 0 and 1. \n",
    "Log loss( Logarithmic loss) measures the performance of a classifier where the predicted output is a probability value \n",
    "between 0 and 1. The lower the log loss value higher the accuracy of our model. \n",
    "\"\"\"\n",
    "print(log_loss(y_test, y_predict).round(2))"
   ]
  },
  {
   "cell_type": "markdown",
   "metadata": {},
   "source": [
    "_______________________________________________________________________________________________________________________________"
   ]
  }
 ],
 "metadata": {
  "kernelspec": {
   "display_name": "Python 3",
   "language": "python",
   "name": "python3"
  },
  "language_info": {
   "codemirror_mode": {
    "name": "ipython",
    "version": 3
   },
   "file_extension": ".py",
   "mimetype": "text/x-python",
   "name": "python",
   "nbconvert_exporter": "python",
   "pygments_lexer": "ipython3",
   "version": "3.7.4"
  }
 },
 "nbformat": 4,
 "nbformat_minor": 4
}
